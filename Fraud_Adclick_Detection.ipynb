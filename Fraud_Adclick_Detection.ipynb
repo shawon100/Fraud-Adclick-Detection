{
  "nbformat": 4,
  "nbformat_minor": 0,
  "metadata": {
    "colab": {
      "name": "Fraud Adclick Detection.ipynb",
      "version": "0.3.2",
      "views": {},
      "default_view": {},
      "provenance": [],
      "collapsed_sections": []
    },
    "kernelspec": {
      "name": "python3",
      "display_name": "Python 3"
    }
  },
  "cells": [
    {
      "metadata": {
        "id": "ITd2Ml2Gaezc",
        "colab_type": "code",
        "colab": {
          "autoexec": {
            "startup": false,
            "wait_interval": 0
          }
        }
      },
      "cell_type": "code",
      "source": [
        "import pandas as pd\n",
        "import numpy as np\n",
        "from sklearn import linear_model\n",
        "from sklearn import metrics\n",
        "from sklearn.model_selection import train_test_split\n",
        "%matplotlib inline \n",
        "from sklearn.utils import shuffle\n",
        "import matplotlib.pyplot as plt\n",
        "from numpy import array\n",
        "from numpy import argmax\n",
        "from sklearn.preprocessing import LabelEncoder\n",
        "from sklearn.preprocessing import OneHotEncoder\n",
        "from sklearn.feature_extraction.text import TfidfVectorizer\n",
        "from sklearn.feature_extraction.text import TfidfTransformer\n",
        "from sklearn.naive_bayes import MultinomialNB\n",
        "from sklearn.feature_extraction.text import CountVectorizer\n",
        "from sklearn.feature_selection import chi2"
      ],
      "execution_count": 0,
      "outputs": []
    },
    {
      "metadata": {
        "id": "8Xp0QErza4w3",
        "colab_type": "code",
        "colab": {
          "autoexec": {
            "startup": false,
            "wait_interval": 0
          },
          "output_extras": [
            {
              "item_id": 1
            }
          ],
          "base_uri": "https://localhost:8080/",
          "height": 363
        },
        "outputId": "a0034cce-f620-409f-bb07-c64367edc6a0",
        "executionInfo": {
          "status": "ok",
          "timestamp": 1520517606325,
          "user_tz": -360,
          "elapsed": 2548,
          "user": {
            "displayName": "Ashadullah Shawon",
            "photoUrl": "//lh3.googleusercontent.com/-sv3-XbKsdZ8/AAAAAAAAAAI/AAAAAAAAAIU/bL9XT7NS8To/s50-c-k-no/photo.jpg",
            "userId": "109724312745076703020"
          }
        }
      },
      "cell_type": "code",
      "source": [
        "names=['ip','app','device','os','channel','click_time','attributed_time','is_attributed']\n",
        "df=pd.read_csv('https://raw.githubusercontent.com/shawon100/Fraud-Adclick-Detection/master/train_sample.csv',names=names, na_filter=False,dtype='object')\n",
        "df = df.drop(df.index[0])\n",
        "df=df.drop('click_time', axis=1)\n",
        "df=df.drop('attributed_time', axis=1)\n",
        "df.head(10)\n"
      ],
      "execution_count": 17,
      "outputs": [
        {
          "output_type": "execute_result",
          "data": {
            "text/html": [
              "<div>\n",
              "<style scoped>\n",
              "    .dataframe tbody tr th:only-of-type {\n",
              "        vertical-align: middle;\n",
              "    }\n",
              "\n",
              "    .dataframe tbody tr th {\n",
              "        vertical-align: top;\n",
              "    }\n",
              "\n",
              "    .dataframe thead th {\n",
              "        text-align: right;\n",
              "    }\n",
              "</style>\n",
              "<table border=\"1\" class=\"dataframe\">\n",
              "  <thead>\n",
              "    <tr style=\"text-align: right;\">\n",
              "      <th></th>\n",
              "      <th>ip</th>\n",
              "      <th>app</th>\n",
              "      <th>device</th>\n",
              "      <th>os</th>\n",
              "      <th>channel</th>\n",
              "      <th>is_attributed</th>\n",
              "    </tr>\n",
              "  </thead>\n",
              "  <tbody>\n",
              "    <tr>\n",
              "      <th>1</th>\n",
              "      <td>87540</td>\n",
              "      <td>12</td>\n",
              "      <td>1</td>\n",
              "      <td>13</td>\n",
              "      <td>497</td>\n",
              "      <td>0</td>\n",
              "    </tr>\n",
              "    <tr>\n",
              "      <th>2</th>\n",
              "      <td>105560</td>\n",
              "      <td>25</td>\n",
              "      <td>1</td>\n",
              "      <td>17</td>\n",
              "      <td>259</td>\n",
              "      <td>0</td>\n",
              "    </tr>\n",
              "    <tr>\n",
              "      <th>3</th>\n",
              "      <td>101424</td>\n",
              "      <td>12</td>\n",
              "      <td>1</td>\n",
              "      <td>19</td>\n",
              "      <td>212</td>\n",
              "      <td>0</td>\n",
              "    </tr>\n",
              "    <tr>\n",
              "      <th>4</th>\n",
              "      <td>94584</td>\n",
              "      <td>13</td>\n",
              "      <td>1</td>\n",
              "      <td>13</td>\n",
              "      <td>477</td>\n",
              "      <td>0</td>\n",
              "    </tr>\n",
              "    <tr>\n",
              "      <th>5</th>\n",
              "      <td>68413</td>\n",
              "      <td>12</td>\n",
              "      <td>1</td>\n",
              "      <td>1</td>\n",
              "      <td>178</td>\n",
              "      <td>0</td>\n",
              "    </tr>\n",
              "    <tr>\n",
              "      <th>6</th>\n",
              "      <td>93663</td>\n",
              "      <td>3</td>\n",
              "      <td>1</td>\n",
              "      <td>17</td>\n",
              "      <td>115</td>\n",
              "      <td>0</td>\n",
              "    </tr>\n",
              "    <tr>\n",
              "      <th>7</th>\n",
              "      <td>17059</td>\n",
              "      <td>1</td>\n",
              "      <td>1</td>\n",
              "      <td>17</td>\n",
              "      <td>135</td>\n",
              "      <td>0</td>\n",
              "    </tr>\n",
              "    <tr>\n",
              "      <th>8</th>\n",
              "      <td>121505</td>\n",
              "      <td>9</td>\n",
              "      <td>1</td>\n",
              "      <td>25</td>\n",
              "      <td>442</td>\n",
              "      <td>0</td>\n",
              "    </tr>\n",
              "    <tr>\n",
              "      <th>9</th>\n",
              "      <td>192967</td>\n",
              "      <td>2</td>\n",
              "      <td>2</td>\n",
              "      <td>22</td>\n",
              "      <td>364</td>\n",
              "      <td>0</td>\n",
              "    </tr>\n",
              "    <tr>\n",
              "      <th>10</th>\n",
              "      <td>143636</td>\n",
              "      <td>3</td>\n",
              "      <td>1</td>\n",
              "      <td>19</td>\n",
              "      <td>135</td>\n",
              "      <td>0</td>\n",
              "    </tr>\n",
              "  </tbody>\n",
              "</table>\n",
              "</div>"
            ],
            "text/plain": [
              "        ip app device  os channel is_attributed\n",
              "1    87540  12      1  13     497             0\n",
              "2   105560  25      1  17     259             0\n",
              "3   101424  12      1  19     212             0\n",
              "4    94584  13      1  13     477             0\n",
              "5    68413  12      1   1     178             0\n",
              "6    93663   3      1  17     115             0\n",
              "7    17059   1      1  17     135             0\n",
              "8   121505   9      1  25     442             0\n",
              "9   192967   2      2  22     364             0\n",
              "10  143636   3      1  19     135             0"
            ]
          },
          "metadata": {
            "tags": []
          },
          "execution_count": 17
        }
      ]
    },
    {
      "metadata": {
        "id": "pUYC6xMGcACK",
        "colab_type": "code",
        "colab": {
          "autoexec": {
            "startup": false,
            "wait_interval": 0
          },
          "output_extras": [
            {
              "item_id": 1
            },
            {
              "item_id": 2
            }
          ],
          "base_uri": "https://localhost:8080/",
          "height": 348
        },
        "outputId": "71ce5924-fc64-4be3-f8d3-795f92a76bae",
        "executionInfo": {
          "status": "ok",
          "timestamp": 1520517626954,
          "user_tz": -360,
          "elapsed": 2267,
          "user": {
            "displayName": "Ashadullah Shawon",
            "photoUrl": "//lh3.googleusercontent.com/-sv3-XbKsdZ8/AAAAAAAAAAI/AAAAAAAAAIU/bL9XT7NS8To/s50-c-k-no/photo.jpg",
            "userId": "109724312745076703020"
          }
        }
      },
      "cell_type": "code",
      "source": [
        "df.is_attributed.value_counts().plot(figsize=(12,5),kind='bar',color='green');\n",
        "plt.xlabel('Number Of Fraud or Not')\n",
        "plt.ylabel('Fraud or Not')"
      ],
      "execution_count": 18,
      "outputs": [
        {
          "output_type": "execute_result",
          "data": {
            "text/plain": [
              "Text(0,0.5,'Fraud or Not')"
            ]
          },
          "metadata": {
            "tags": []
          },
          "execution_count": 18
        },
        {
          "output_type": "display_data",
          "data": {
            "image/png": "[encoded data removed]",
            "text/plain": [
              "<matplotlib.figure.Figure at 0x7f8222dd4f28>"
            ]
          },
          "metadata": {
            "tags": []
          }
        }
      ]
    },
    {
      "metadata": {
        "id": "e7VWehOicpt4",
        "colab_type": "code",
        "colab": {
          "autoexec": {
            "startup": false,
            "wait_interval": 0
          },
          "output_extras": [
            {
              "item_id": 1
            }
          ],
          "base_uri": "https://localhost:8080/",
          "height": 149
        },
        "outputId": "85ee786a-5828-44aa-c3ec-5dfac041cd11",
        "executionInfo": {
          "status": "ok",
          "timestamp": 1520517632340,
          "user_tz": -360,
          "elapsed": 1131,
          "user": {
            "displayName": "Ashadullah Shawon",
            "photoUrl": "//lh3.googleusercontent.com/-sv3-XbKsdZ8/AAAAAAAAAAI/AAAAAAAAAIU/bL9XT7NS8To/s50-c-k-no/photo.jpg",
            "userId": "109724312745076703020"
          }
        }
      },
      "cell_type": "code",
      "source": [
        "X=np.array(df[names[:4]])\n",
        "print(X)\n"
      ],
      "execution_count": 19,
      "outputs": [
        {
          "output_type": "stream",
          "text": [
            "[['87540' '12' '1' '13']\n",
            " ['105560' '25' '1' '17']\n",
            " ['101424' '12' '1' '19']\n",
            " ...\n",
            " ['18839' '3' '1' '13']\n",
            " ['114276' '15' '1' '12']\n",
            " ['119349' '14' '1' '15']]\n"
          ],
          "name": "stdout"
        }
      ]
    },
    {
      "metadata": {
        "id": "cXaIUfF-eKXM",
        "colab_type": "code",
        "colab": {
          "autoexec": {
            "startup": false,
            "wait_interval": 0
          },
          "output_extras": [
            {
              "item_id": 1
            }
          ],
          "base_uri": "https://localhost:8080/",
          "height": 36
        },
        "outputId": "4170abf9-8def-4764-c771-97b2e5857ffd",
        "executionInfo": {
          "status": "ok",
          "timestamp": 1520517637887,
          "user_tz": -360,
          "elapsed": 1009,
          "user": {
            "displayName": "Ashadullah Shawon",
            "photoUrl": "//lh3.googleusercontent.com/-sv3-XbKsdZ8/AAAAAAAAAAI/AAAAAAAAAIU/bL9XT7NS8To/s50-c-k-no/photo.jpg",
            "userId": "109724312745076703020"
          }
        }
      },
      "cell_type": "code",
      "source": [
        "y=np.array(df[names[7]])\n",
        "print(y)"
      ],
      "execution_count": 20,
      "outputs": [
        {
          "output_type": "stream",
          "text": [
            "['0' '0' '0' ... '0' '0' '0']\n"
          ],
          "name": "stdout"
        }
      ]
    },
    {
      "metadata": {
        "id": "CZ3dH08yeZNc",
        "colab_type": "code",
        "colab": {
          "autoexec": {
            "startup": false,
            "wait_interval": 0
          },
          "output_extras": [
            {
              "item_id": 1
            }
          ],
          "base_uri": "https://localhost:8080/",
          "height": 149
        },
        "outputId": "7e85a163-51c8-4802-c6ad-fa40864c98d6",
        "executionInfo": {
          "status": "ok",
          "timestamp": 1520517642449,
          "user_tz": -360,
          "elapsed": 1288,
          "user": {
            "displayName": "Ashadullah Shawon",
            "photoUrl": "//lh3.googleusercontent.com/-sv3-XbKsdZ8/AAAAAAAAAAI/AAAAAAAAAIU/bL9XT7NS8To/s50-c-k-no/photo.jpg",
            "userId": "109724312745076703020"
          }
        }
      },
      "cell_type": "code",
      "source": [
        "\n",
        "X_train, X_test, y_train, y_test = train_test_split(X,y,test_size=0.3, random_state = 20,stratify=y)\n",
        "#X_train,y_train=shuffle(X_train,y_train)\n",
        "#count_vect = CountVectorizer()\n",
        "#X_train_counts = count_vect.fit_transform(X_train.ravel())\n",
        "#tfidf_transformer = TfidfTransformer()\n",
        "#X_train_tfidf = tfidf_transformer.fit_transform(X_train_counts)\n",
        "\n",
        "print(X_train)\n"
      ],
      "execution_count": 21,
      "outputs": [
        {
          "output_type": "stream",
          "text": [
            "[['86353' '21' '1' '19']\n",
            " ['175559' '3' '1' '8']\n",
            " ['167216' '3' '1' '18']\n",
            " ...\n",
            " ['19091' '2' '1' '30']\n",
            " ['255629' '29' '1' '13']\n",
            " ['166850' '3' '1' '13']]\n"
          ],
          "name": "stdout"
        }
      ]
    },
    {
      "metadata": {
        "id": "VdJ95rn5ei9E",
        "colab_type": "code",
        "colab": {
          "autoexec": {
            "startup": false,
            "wait_interval": 0
          }
        }
      },
      "cell_type": "code",
      "source": [
        "from scipy.sparse import csr_matrix\n",
        "#X_train_tfidf = X_train_tfidf.reshape(X_train_tfidf.shape[2:])\n",
        "#X_train_tfidf = X_train_tfidf.tranpose()\n",
        "clf=linear_model.LogisticRegression(multi_class='multinomial',solver='lbfgs').fit(X_train,y_train)"
      ],
      "execution_count": 0,
      "outputs": []
    },
    {
      "metadata": {
        "id": "MXtdGrRHhtVu",
        "colab_type": "code",
        "colab": {
          "autoexec": {
            "startup": false,
            "wait_interval": 0
          },
          "output_extras": [
            {
              "item_id": 1
            }
          ],
          "base_uri": "https://localhost:8080/",
          "height": 55
        },
        "outputId": "72ed6315-bb0f-46a8-d701-1b0ae2fb53f5",
        "executionInfo": {
          "status": "ok",
          "timestamp": 1520517748744,
          "user_tz": -360,
          "elapsed": 5140,
          "user": {
            "displayName": "Ashadullah Shawon",
            "photoUrl": "//lh3.googleusercontent.com/-sv3-XbKsdZ8/AAAAAAAAAAI/AAAAAAAAAIU/bL9XT7NS8To/s50-c-k-no/photo.jpg",
            "userId": "109724312745076703020"
          }
        }
      },
      "cell_type": "code",
      "source": [
        "print('Train Accuracy = ',metrics.accuracy_score(y_train,clf.predict(X_train)))\n",
        "print('Test Accuracy = ',metrics.accuracy_score(y_test,clf.predict(X_test)))"
      ],
      "execution_count": 24,
      "outputs": [
        {
          "output_type": "stream",
          "text": [
            "Train Accuracy =  0.9977285714285714\n",
            "Test Accuracy =  0.9977333333333334\n"
          ],
          "name": "stdout"
        }
      ]
    },
    {
      "metadata": {
        "id": "Waz_kUOF61OQ",
        "colab_type": "code",
        "colab": {
          "autoexec": {
            "startup": false,
            "wait_interval": 0
          }
        }
      },
      "cell_type": "code",
      "source": [
        ""
      ],
      "execution_count": 0,
      "outputs": []
    }
  ]
}